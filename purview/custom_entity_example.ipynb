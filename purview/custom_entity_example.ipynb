{
 "metadata": {
  "language_info": {
   "codemirror_mode": {
    "name": "ipython",
    "version": 3
   },
   "file_extension": ".py",
   "mimetype": "text/x-python",
   "name": "python",
   "nbconvert_exporter": "python",
   "pygments_lexer": "ipython3",
   "version": "3.7.6"
  },
  "orig_nbformat": 2,
  "kernelspec": {
   "name": "python376jvsc74a57bd0fd17b49f022c8532a3ea2211b69cec9ba36fdf32d5828a8356790cd1fe9ff052",
   "display_name": "Python 3.7.6 64-bit ('mlops-demo': conda)"
  },
  "metadata": {
   "interpreter": {
    "hash": "fd17b49f022c8532a3ea2211b69cec9ba36fdf32d5828a8356790cd1fe9ff052"
   }
  }
 },
 "nbformat": 4,
 "nbformat_minor": 2,
 "cells": [
  {
   "source": [
    "This notebook explains how to create custom entities in Azure Purview to represent ML workflows"
   ],
   "cell_type": "markdown",
   "metadata": {}
  },
  {
   "cell_type": "code",
   "execution_count": 3,
   "metadata": {},
   "outputs": [],
   "source": [
    "\n",
    "import dotenv\n",
    "from pyapacheatlas.auth import ServicePrincipalAuthentication\n",
    "from pyapacheatlas.core import PurviewClient\n",
    "\n",
    "dotenv.load_dotenv()\n",
    "\n",
    "# authenticate and instantiate client\n",
    "tenant_id = os.environ[\"TENANT_ID\"]\n",
    "client_id = os.environ[\"SP_ID\"]\n",
    "client_secret = os.environ[\"SP_SECRET\"]\n",
    "\n",
    "auth = ServicePrincipalAuthentication(\n",
    "    tenant_id=tenant_id,\n",
    "    client_id=client_id,\n",
    "    client_secret=client_secret\n",
    ")\n",
    "\n",
    "client = PurviewClient(account_name=\"ml-purview\", authentication=auth)\n"
   ]
  },
  {
   "cell_type": "code",
   "execution_count": 30,
   "metadata": {},
   "outputs": [
    {
     "output_type": "execute_result",
     "data": {
      "text/plain": [
       "{'enumDefs': [],\n",
       " 'structDefs': [],\n",
       " 'classificationDefs': [],\n",
       " 'entityDefs': [{'category': 'ENTITY',\n",
       "   'guid': 'f2e8cdf5-ca17-4972-befd-5d8d7fa5b160',\n",
       "   'createdBy': '33d76053-d12a-473a-86a9-5234ba482970',\n",
       "   'updatedBy': '33d76053-d12a-473a-86a9-5234ba482970',\n",
       "   'createTime': 1621593463485,\n",
       "   'updateTime': 1621593463485,\n",
       "   'version': 1,\n",
       "   'name': 'azureml_pipeline',\n",
       "   'description': 'azureml_pipeline',\n",
       "   'typeVersion': '1.0',\n",
       "   'lastModifiedTS': '1',\n",
       "   'attributeDefs': [{'name': 'pipeline_name',\n",
       "     'typeName': 'string',\n",
       "     'isOptional': True,\n",
       "     'cardinality': 'SINGLE',\n",
       "     'valuesMinCount': 0,\n",
       "     'valuesMaxCount': 1,\n",
       "     'isUnique': False,\n",
       "     'isIndexable': False,\n",
       "     'includeInNotification': False,\n",
       "     'description': 'Name of the Azure ML pipeline'},\n",
       "    {'name': 'pipeline_owner',\n",
       "     'typeName': 'string',\n",
       "     'isOptional': True,\n",
       "     'cardinality': 'SINGLE',\n",
       "     'valuesMinCount': 0,\n",
       "     'valuesMaxCount': 1,\n",
       "     'isUnique': False,\n",
       "     'isIndexable': False,\n",
       "     'includeInNotification': False,\n",
       "     'description': 'Name of the main developer of the ML pipeline'}],\n",
       "   'superTypes': ['Process'],\n",
       "   'subTypes': [],\n",
       "   'relationshipAttributeDefs': [{'name': 'outputs',\n",
       "     'typeName': 'array<DataSet>',\n",
       "     'isOptional': True,\n",
       "     'cardinality': 'SET',\n",
       "     'valuesMinCount': 0,\n",
       "     'valuesMaxCount': 2147483647,\n",
       "     'isUnique': False,\n",
       "     'isIndexable': False,\n",
       "     'includeInNotification': False,\n",
       "     'relationshipTypeName': 'process_dataset_outputs',\n",
       "     'isLegacyAttribute': True},\n",
       "    {'name': 'inputs',\n",
       "     'typeName': 'array<DataSet>',\n",
       "     'isOptional': True,\n",
       "     'cardinality': 'SET',\n",
       "     'valuesMinCount': 0,\n",
       "     'valuesMaxCount': 2147483647,\n",
       "     'isUnique': False,\n",
       "     'isIndexable': False,\n",
       "     'includeInNotification': False,\n",
       "     'relationshipTypeName': 'dataset_process_inputs',\n",
       "     'isLegacyAttribute': True},\n",
       "    {'name': 'meanings',\n",
       "     'typeName': 'array<AtlasGlossaryTerm>',\n",
       "     'isOptional': True,\n",
       "     'cardinality': 'SET',\n",
       "     'valuesMinCount': -1,\n",
       "     'valuesMaxCount': -1,\n",
       "     'isUnique': False,\n",
       "     'isIndexable': False,\n",
       "     'includeInNotification': False,\n",
       "     'relationshipTypeName': 'AtlasGlossarySemanticAssignment',\n",
       "     'isLegacyAttribute': False}]}],\n",
       " 'relationshipDefs': []}"
      ]
     },
     "metadata": {},
     "execution_count": 30
    }
   ],
   "source": [
    "\n",
    "# Define ML Pipelne Process Type\n",
    "\n",
    "from pyapacheatlas.core import EntityTypeDef, AtlasAttributeDef\n",
    "from pyapacheatlas.core.typedef import Cardinality\n",
    "\n",
    "\n",
    "pipeline_name = AtlasAttributeDef(\n",
    "    name=\"pipeline_name\",\n",
    "    displayName=\"Pipeline Name\",\n",
    "    description=\"Name of the Azure ML pipeline\"\n",
    ")\n",
    "\n",
    "pipeline_owner = AtlasAttributeDef(\n",
    "    name=\"pipeline_owner\",\n",
    "    displayName=\"Pipeline Owner\",\n",
    "    description=\"Name of the main developer of the ML pipeline\"\n",
    ")\n",
    "\n",
    "process = EntityTypeDef(\n",
    "    name=\"azureml_pipeline\",\n",
    "    superTypes=[\"Process\"],\n",
    "    attributeDefs = [pipeline_name, pipeline_owner]\n",
    ")\n",
    "\n",
    "process.to_json()\n",
    "\n",
    "client.upload_typedefs(process)\n",
    "\n"
   ]
  },
  {
   "cell_type": "code",
   "execution_count": 50,
   "metadata": {},
   "outputs": [],
   "source": [
    "foo=client.get_entity(guid=\"5dc733af-52bc-487a-8351-a807210c28d9\")"
   ]
  },
  {
   "cell_type": "code",
   "execution_count": 61,
   "metadata": {},
   "outputs": [],
   "source": [
    "from pyapacheatlas.core import AtlasEntity, AtlasProcess\n",
    "\n",
    "iris_score = client.get_entity(guid=\"3f92f951-a198-4cdf-a303-39a7164484b7\")[\"entities\"][0]\n",
    "iris_predicted = client.get_entity(guid=\"5dc733af-52bc-487a-8351-a807210c28d9\")[\"entities\"][0]\n"
   ]
  },
  {
   "cell_type": "code",
   "execution_count": 67,
   "metadata": {},
   "outputs": [
    {
     "output_type": "execute_result",
     "data": {
      "text/plain": [
       "'iris.csv'"
      ]
     },
     "metadata": {},
     "execution_count": 67
    }
   ],
   "source": [
    "iris_predicted[\"attributes\"][\"name\"]"
   ]
  },
  {
   "cell_type": "code",
   "execution_count": 74,
   "metadata": {},
   "outputs": [],
   "source": [
    "\n",
    "my_pipeline = AtlasProcess(\n",
    "    name=\"iris_score_pipeline\",\n",
    "    typeName=\"azureml_pipeline\",\n",
    "    qualified_name=\"https://westeurope.api.azureml.ms/pipelines/v1.0/subscriptions/d50ade7c-2587-4da8-9c63-fc828541722c/resourceGroups/rgp-show-weu-aml-databricks/providers/Microsoft.MachineLearningServices/workspaces/aml-mlops-demo/PipelineRuns/PipelineSubmit/a00b0cec-769f-4623-a795-e7b7968bb405\",\n",
    "    guid=-1,\n",
    "    outputs=[\n",
    "        AtlasEntity(\n",
    "            name=iris_predicted[\"attributes\"][\"name\"],\n",
    "            typeName=iris_predicted[\"typeName\"],\n",
    "            qualified_name=iris_predicted[\"attributes\"][\"qualifiedName\"],\n",
    "            guid=iris_predicted[\"guid\"],\n",
    "        )\n",
    "    ],\n",
    "    inputs=[\n",
    "        AtlasEntity(\n",
    "            name=iris_score[\"attributes\"][\"name\"],\n",
    "            typeName=iris_score[\"typeName\"],\n",
    "            qualified_name=iris_score[\"attributes\"][\"qualifiedName\"],\n",
    "            guid=iris_score[\"guid\"],\n",
    "        )\n",
    "    ]\n",
    ")"
   ]
  },
  {
   "cell_type": "code",
   "execution_count": 75,
   "metadata": {},
   "outputs": [
    {
     "output_type": "execute_result",
     "data": {
      "text/plain": [
       "{'typeName': 'azureml_pipeline',\n",
       " 'guid': -1,\n",
       " 'attributes': {'name': 'iris_score_pipeline',\n",
       "  'qualifiedName': 'https://westeurope.api.azureml.ms/pipelines/v1.0/subscriptions/d50ade7c-2587-4da8-9c63-fc828541722c/resourceGroups/rgp-show-weu-aml-databricks/providers/Microsoft.MachineLearningServices/workspaces/aml-mlops-demo/PipelineRuns/PipelineSubmit/a00b0cec-769f-4623-a795-e7b7968bb405',\n",
       "  'inputs': [{'typeName': 'azure_blob_path',\n",
       "    'guid': '3f92f951-a198-4cdf-a303-39a7164484b7',\n",
       "    'qualifiedName': 'https://topsecretdata.blob.core.windows.net/data/iris-score.csv'}],\n",
       "  'outputs': [{'typeName': 'azure_blob_path',\n",
       "    'guid': '5dc733af-52bc-487a-8351-a807210c28d9',\n",
       "    'qualifiedName': 'https://topsecretdata.blob.core.windows.net/staging/predictions/iris.csv'}]},\n",
       " 'relationshipAttributes': {}}"
      ]
     },
     "metadata": {},
     "execution_count": 75
    }
   ],
   "source": [
    "my_pipeline.to_json()"
   ]
  },
  {
   "cell_type": "code",
   "execution_count": 78,
   "metadata": {},
   "outputs": [
    {
     "output_type": "execute_result",
     "data": {
      "text/plain": [
       "{'mutatedEntities': {'CREATE': [{'typeName': 'azureml_pipeline',\n",
       "    'attributes': {'qualifiedName': 'https://westeurope.api.azureml.ms/pipelines/v1.0/subscriptions/d50ade7c-2587-4da8-9c63-fc828541722c/resourceGroups/rgp-show-weu-aml-databricks/providers/Microsoft.MachineLearningServices/workspaces/aml-mlops-demo/PipelineRuns/PipelineSubmit/a00b0cec-769f-4623-a795-e7b7968bb405'},\n",
       "    'lastModifiedTS': '1',\n",
       "    'guid': '9bf0379b-c9e8-44e3-9e90-bf740945a907'}]},\n",
       " 'guidAssignments': {'-1': '9bf0379b-c9e8-44e3-9e90-bf740945a907'}}"
      ]
     },
     "metadata": {},
     "execution_count": 78
    }
   ],
   "source": [
    "client.upload_entities(my_pipeline)"
   ]
  }
 ]
}